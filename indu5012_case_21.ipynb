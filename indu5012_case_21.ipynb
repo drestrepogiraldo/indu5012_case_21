{
 "cells": [
  {
   "cell_type": "markdown",
   "source": "# Case 21 - Artificial Neuronal Networks",
   "metadata": {
    "cell_id": "4a8f58467b4d47c184cdabeae1e26c1f",
    "tags": [],
    "deepnote_cell_type": "markdown",
    "deepnote_cell_height": 134
   }
  },
  {
   "cell_type": "markdown",
   "source": "## Business Problem\n\nYou are an analyst at a Colombian EPS. This company has identified a lot of problems arising from people developing heart deseases. So, the company has decided to build a model capable of classifying the risk that a patient has of developing these deseases.",
   "metadata": {
    "cell_id": "6a0d4fc3587f481c9b1550057e77c6c8",
    "tags": [],
    "deepnote_cell_type": "markdown",
    "deepnote_cell_height": 153.171875
   }
  },
  {
   "cell_type": "markdown",
   "source": "## Introduction\n\nNeural networks now allow us to have an extremely high level of precision for all kinds of tasks such as:\n\n- Speech Recognition (Siri, Alexa & Google Assistant)\n- Speech Synthesis (Tacotron)\n- Text parsing (BERT)\n- Text Creation (GPT-3)\n- Object Recognition (YOLO v4, Instagram/TikTok face filters)\n- Image and Video Creation and Manipulation (PULSE, DeepFakes, StarGAN v2)\n- All kinds of Classification and Regression (too many examples to count!)\n\nAnd while they may look like black boxes, deep down they are trying to accomplish the same thing as any other model — to make good predictions.\n\nNeural networks are multi-layer networks of neurons (the blue and magenta nodes in the chart below) that we use to classify things, make predictions, etc. Below is the diagram of a simple neural network with five inputs, 5 outputs, and two hidden layers of neurons.\n\n<figure>\n<img src=\"/work/indu5012_case_21/fig/Neuronal Networks 1.jpeg\" align=\"center\"/> \n<figcaption align = \"center\"><b>\nFig. 21.1 - Neuronal Network with two hidden layers </b>.<i>Taken from https://towardsdatascience.com/understanding-neural-networks-19020b758230 </i></figcaption>\n</figure>\n\nStarting from the left, we have:\n\nThe input layer of our model in orange.\nOur first hidden layer of neurons in blue.\nOur second hidden layer of neurons in magenta.\nThe output layer (a.k.a. the prediction) of our model in green.\n\nForget for a second the more complicated looking picture of the neural network drawn above and focus on this simpler one below.\n\n<figure>\n<img src=\"/work/indu5012_case_21/fig/Neuronal Networks 2.jpeg\" align=\"center\"/> \n<figcaption align = \"center\"><b>\nFig. 21.2 - Logistic regression (with only one feature) implemented via a neural network </b>.<i>Taken from https://towardsdatascience.com/understanding-neural-networks-19020b758230 </i></figcaption>\n</figure>\n\nThis is a single feature logistic regression (we are giving the model only one X variable) expressed through a neural network",
   "metadata": {
    "cell_id": "48bcbd965b514c738de14658b54f19ca",
    "tags": [],
    "deepnote_cell_type": "markdown",
    "deepnote_cell_height": 1474.140625
   }
  },
  {
   "cell_type": "markdown",
   "source": "A super simple neural network consists of just the following components:\n\n- A connection (though in practice, there will generally be multiple connections, each with its own weight, going into a particular neuron), with a weight “living inside it”, that transforms your input (using B1) and gives it to the neuron.\n- A neuron that includes a bias term (B0) and an activation function (sigmoid in our case).\n\nThe first hidden layer consists of two neurons. So to connect all five inputs to the neurons in Hidden Layer 1, we need ten connections. The next image (below) shows just the connections between Input 1 and Hidden Layer 1\n\n<figure>\n<img src=\"/work/indu5012_case_21/fig/Neuronal Networks 3.jpeg\" align=\"center\"/> \n<figcaption align = \"center\"><b>\nFig. 21.3 - The connections between Input 1 and Hidden Layer 1 </b>.<i>Taken from https://towardsdatascience.com/understanding-neural-networks-19020b758230 </i></figcaption>\n</figure>\n\n",
   "metadata": {
    "cell_id": "f832046b1bbf4ae8b8de2f4ee276e6fe",
    "tags": [],
    "deepnote_cell_type": "markdown",
    "deepnote_cell_height": 733.90625
   }
  },
  {
   "cell_type": "markdown",
   "source": "### Backwards Proágation\n\nThe weights and biases across the entire network are also the dials that we tweak to change the predictions made by the model. So basically backpropagation allows us to calculate the error attributable to each neuron and that in turn allows us to calculate the partial derivatives and ultimately the gradient so that we can utilize gradient descent.\n\n<figure>\n<img src=\"/work/indu5012_case_21/fig/BackPropagation1.jpeg\" align=\"center\"/> \n<figcaption align = \"center\"><b>\nFig. 21.4 - Backpropagation in a neural network </b>.<i>Taken from https://towardsdatascience.com/understanding-neural-networks-19020b758230 </i></figcaption>\n</figure>\n",
   "metadata": {
    "cell_id": "7d261cf09b1e42a298025ba86f36c0ec",
    "tags": [],
    "deepnote_cell_type": "markdown",
    "deepnote_cell_height": 534.296875
   }
  },
  {
   "cell_type": "markdown",
   "source": "### Implementation\n\nThere are two main libraries for building Neural Networks: TensorFlow (developed by Google) and PyTorch (developed by Facebook). They can perform similar tasks, but the former is more production-ready while the latter is good for building rapid prototypes because it is easier to learn.\n\n\nWe are going to use TensorFlow and Keras, a higher-level module way more user-friendly than pure TensorFlow and PyTorch, although a bit slower.\n\nhttps://towardsdatascience.com/deep-learning-with-python-neural-networks-complete-tutorial-6b53c0b06af0\n",
   "metadata": {
    "cell_id": "9bc205a70a2f48c898287fa4326c3a94",
    "tags": [],
    "deepnote_cell_type": "markdown",
    "deepnote_cell_height": 285.125
   }
  },
  {
   "cell_type": "markdown",
   "source": "## Packages Import",
   "metadata": {
    "cell_id": "30384c1c804645c0827b21b86a60a857",
    "tags": [],
    "deepnote_cell_type": "markdown",
    "deepnote_cell_height": 70
   }
  },
  {
   "cell_type": "code",
   "metadata": {
    "cell_id": "5518421026574df3a922f92784f4a2e2",
    "tags": [],
    "deepnote_to_be_reexecuted": false,
    "source_hash": "4de8b7df",
    "execution_start": 1652111414234,
    "execution_millis": 3378,
    "deepnote_cell_type": "code",
    "deepnote_cell_height": 221.75
   },
   "source": "!pip install pydot",
   "execution_count": null,
   "outputs": [
    {
     "name": "stdout",
     "text": "Requirement already satisfied: pydot in /root/venv/lib/python3.7/site-packages (1.4.2)\nRequirement already satisfied: pyparsing>=2.1.4 in /shared-libs/python3.7/py/lib/python3.7/site-packages (from pydot) (3.0.8)\n\u001b[33mWARNING: You are using pip version 20.1.1; however, version 22.0.4 is available.\nYou should consider upgrading via the '/root/venv/bin/python -m pip install --upgrade pip' command.\u001b[0m\n",
     "output_type": "stream"
    }
   ]
  },
  {
   "cell_type": "code",
   "metadata": {
    "cell_id": "d98dbb948374498ea07591db2be20e3e",
    "tags": [],
    "deepnote_to_be_reexecuted": false,
    "source_hash": "c1edd451",
    "execution_start": 1652111417409,
    "execution_millis": 2959,
    "deepnote_cell_type": "code",
    "deepnote_cell_height": 156.5625
   },
   "source": "! pip install graphviz",
   "execution_count": null,
   "outputs": [
    {
     "name": "stdout",
     "text": "Requirement already satisfied: graphviz in /root/venv/lib/python3.7/site-packages (0.20)\n\u001b[33mWARNING: You are using pip version 20.1.1; however, version 22.0.4 is available.\nYou should consider upgrading via the '/root/venv/bin/python -m pip install --upgrade pip' command.\u001b[0m\n",
     "output_type": "stream"
    }
   ]
  },
  {
   "cell_type": "code",
   "metadata": {
    "cell_id": "8e0b71db455344d68d86f02737469251",
    "tags": [],
    "deepnote_to_be_reexecuted": false,
    "source_hash": "cbb75a4e",
    "execution_start": 1652111420382,
    "execution_millis": 2984,
    "deepnote_cell_type": "code",
    "deepnote_cell_height": 499.75
   },
   "source": "! pip install shap",
   "execution_count": null,
   "outputs": [
    {
     "name": "stdout",
     "text": "Requirement already satisfied: shap in /root/venv/lib/python3.7/site-packages (0.40.0)\nRequirement already satisfied: pandas in /shared-libs/python3.7/py/lib/python3.7/site-packages (from shap) (1.2.5)\nRequirement already satisfied: tqdm>4.25.0 in /shared-libs/python3.7/py/lib/python3.7/site-packages (from shap) (4.64.0)\nRequirement already satisfied: slicer==0.0.7 in /root/venv/lib/python3.7/site-packages (from shap) (0.0.7)\nRequirement already satisfied: scikit-learn in /shared-libs/python3.7/py/lib/python3.7/site-packages (from shap) (1.0.2)\nRequirement already satisfied: scipy in /shared-libs/python3.7/py/lib/python3.7/site-packages (from shap) (1.7.3)\nRequirement already satisfied: numpy in /shared-libs/python3.7/py/lib/python3.7/site-packages (from shap) (1.21.6)\nRequirement already satisfied: numba in /root/venv/lib/python3.7/site-packages (from shap) (0.55.1)\nRequirement already satisfied: cloudpickle in /root/venv/lib/python3.7/site-packages (from shap) (2.0.0)\nRequirement already satisfied: packaging>20.9 in /shared-libs/python3.7/py/lib/python3.7/site-packages (from shap) (21.3)\nRequirement already satisfied: pytz>=2017.3 in /shared-libs/python3.7/py/lib/python3.7/site-packages (from pandas->shap) (2022.1)\nRequirement already satisfied: python-dateutil>=2.7.3 in /shared-libs/python3.7/py-core/lib/python3.7/site-packages (from pandas->shap) (2.8.2)\nRequirement already satisfied: threadpoolctl>=2.0.0 in /shared-libs/python3.7/py/lib/python3.7/site-packages (from scikit-learn->shap) (3.1.0)\nRequirement already satisfied: joblib>=0.11 in /shared-libs/python3.7/py/lib/python3.7/site-packages (from scikit-learn->shap) (1.1.0)\nRequirement already satisfied: setuptools in /root/venv/lib/python3.7/site-packages (from numba->shap) (47.1.0)\nRequirement already satisfied: llvmlite<0.39,>=0.38.0rc1 in /root/venv/lib/python3.7/site-packages (from numba->shap) (0.38.0)\nRequirement already satisfied: pyparsing!=3.0.5,>=2.0.2 in /shared-libs/python3.7/py/lib/python3.7/site-packages (from packaging>20.9->shap) (3.0.8)\nRequirement already satisfied: six>=1.5 in /shared-libs/python3.7/py-core/lib/python3.7/site-packages (from python-dateutil>=2.7.3->pandas->shap) (1.16.0)\n\u001b[33mWARNING: You are using pip version 20.1.1; however, version 22.0.4 is available.\nYou should consider upgrading via the '/root/venv/bin/python -m pip install --upgrade pip' command.\u001b[0m\n",
     "output_type": "stream"
    }
   ]
  },
  {
   "cell_type": "code",
   "metadata": {
    "cell_id": "953efa989b2449c6b4db547aade6f97c",
    "tags": [],
    "deepnote_to_be_reexecuted": false,
    "source_hash": "61bd6fde",
    "execution_start": 1652111423371,
    "execution_millis": 5725,
    "deepnote_cell_type": "code",
    "deepnote_cell_height": 352.375
   },
   "source": "import tensorflow as tf\nimport numpy as np\nimport pandas as pd\nimport seaborn as sns\n\nimport matplotlib.pyplot as plt\n\nfrom sklearn.model_selection import train_test_split\nfrom sklearn.metrics import  RocCurveDisplay\nfrom sklearn.metrics import roc_curve\n\nfrom tensorflow.keras import backend as K\nimport shap",
   "execution_count": null,
   "outputs": [
    {
     "name": "stderr",
     "text": "/shared-libs/python3.7/py/lib/python3.7/site-packages/tqdm/auto.py:22: TqdmWarning: IProgress not found. Please update jupyter and ipywidgets. See https://ipywidgets.readthedocs.io/en/stable/user_install.html\n  from .autonotebook import tqdm as notebook_tqdm\n",
     "output_type": "stream"
    }
   ]
  },
  {
   "cell_type": "markdown",
   "source": "### Data Import\n\nThe information was downloaded from a dataset available [online](https://biolincc.nhlbi.nih.gov/studies/framcohort/).",
   "metadata": {
    "cell_id": "7ad7bc7651944213967eb14ab6c1e9d4",
    "tags": [],
    "deepnote_cell_type": "markdown",
    "deepnote_cell_height": 100.390625
   }
  },
  {
   "cell_type": "code",
   "metadata": {
    "cell_id": "efe0e89506fe42d18f12ae4eccb76ffe",
    "tags": [],
    "deepnote_to_be_reexecuted": false,
    "source_hash": "4728e265",
    "execution_start": 1652111429089,
    "execution_millis": 77,
    "deepnote_cell_type": "code",
    "deepnote_cell_height": 348
   },
   "source": "df_heart_disease = pd.read_csv('/work/indu5012_case_21/data/framingham.csv')\ndf_heart_disease.head(3)",
   "execution_count": null,
   "outputs": [
    {
     "output_type": "execute_result",
     "execution_count": 5,
     "data": {
      "application/vnd.deepnote.dataframe.v3+json": {
       "column_count": 16,
       "row_count": 3,
       "columns": [
        {
         "name": "male",
         "dtype": "int64",
         "stats": {
          "unique_count": 2,
          "nan_count": 0,
          "min": "0",
          "max": "1",
          "histogram": [
           {
            "bin_start": 0,
            "bin_end": 0.1,
            "count": 1
           },
           {
            "bin_start": 0.1,
            "bin_end": 0.2,
            "count": 0
           },
           {
            "bin_start": 0.2,
            "bin_end": 0.30000000000000004,
            "count": 0
           },
           {
            "bin_start": 0.30000000000000004,
            "bin_end": 0.4,
            "count": 0
           },
           {
            "bin_start": 0.4,
            "bin_end": 0.5,
            "count": 0
           },
           {
            "bin_start": 0.5,
            "bin_end": 0.6000000000000001,
            "count": 0
           },
           {
            "bin_start": 0.6000000000000001,
            "bin_end": 0.7000000000000001,
            "count": 0
           },
           {
            "bin_start": 0.7000000000000001,
            "bin_end": 0.8,
            "count": 0
           },
           {
            "bin_start": 0.8,
            "bin_end": 0.9,
            "count": 0
           },
           {
            "bin_start": 0.9,
            "bin_end": 1,
            "count": 2
           }
          ]
         }
        },
        {
         "name": "age",
         "dtype": "int64",
         "stats": {
          "unique_count": 3,
          "nan_count": 0,
          "min": "39",
          "max": "48",
          "histogram": [
           {
            "bin_start": 39,
            "bin_end": 39.9,
            "count": 1
           },
           {
            "bin_start": 39.9,
            "bin_end": 40.8,
            "count": 0
           },
           {
            "bin_start": 40.8,
            "bin_end": 41.7,
            "count": 0
           },
           {
            "bin_start": 41.7,
            "bin_end": 42.6,
            "count": 0
           },
           {
            "bin_start": 42.6,
            "bin_end": 43.5,
            "count": 0
           },
           {
            "bin_start": 43.5,
            "bin_end": 44.4,
            "count": 0
           },
           {
            "bin_start": 44.4,
            "bin_end": 45.3,
            "count": 0
           },
           {
            "bin_start": 45.3,
            "bin_end": 46.2,
            "count": 1
           },
           {
            "bin_start": 46.2,
            "bin_end": 47.1,
            "count": 0
           },
           {
            "bin_start": 47.1,
            "bin_end": 48,
            "count": 1
           }
          ]
         }
        },
        {
         "name": "education",
         "dtype": "float64",
         "stats": {
          "unique_count": 3,
          "nan_count": 0,
          "min": "1.0",
          "max": "4.0",
          "histogram": [
           {
            "bin_start": 1,
            "bin_end": 1.3,
            "count": 1
           },
           {
            "bin_start": 1.3,
            "bin_end": 1.6,
            "count": 0
           },
           {
            "bin_start": 1.6,
            "bin_end": 1.9,
            "count": 0
           },
           {
            "bin_start": 1.9,
            "bin_end": 2.2,
            "count": 1
           },
           {
            "bin_start": 2.2,
            "bin_end": 2.5,
            "count": 0
           },
           {
            "bin_start": 2.5,
            "bin_end": 2.8,
            "count": 0
           },
           {
            "bin_start": 2.8,
            "bin_end": 3.1,
            "count": 0
           },
           {
            "bin_start": 3.1,
            "bin_end": 3.4,
            "count": 0
           },
           {
            "bin_start": 3.4,
            "bin_end": 3.6999999999999997,
            "count": 0
           },
           {
            "bin_start": 3.6999999999999997,
            "bin_end": 4,
            "count": 1
           }
          ]
         }
        },
        {
         "name": "currentSmoker",
         "dtype": "int64",
         "stats": {
          "unique_count": 2,
          "nan_count": 0,
          "min": "0",
          "max": "1",
          "histogram": [
           {
            "bin_start": 0,
            "bin_end": 0.1,
            "count": 2
           },
           {
            "bin_start": 0.1,
            "bin_end": 0.2,
            "count": 0
           },
           {
            "bin_start": 0.2,
            "bin_end": 0.30000000000000004,
            "count": 0
           },
           {
            "bin_start": 0.30000000000000004,
            "bin_end": 0.4,
            "count": 0
           },
           {
            "bin_start": 0.4,
            "bin_end": 0.5,
            "count": 0
           },
           {
            "bin_start": 0.5,
            "bin_end": 0.6000000000000001,
            "count": 0
           },
           {
            "bin_start": 0.6000000000000001,
            "bin_end": 0.7000000000000001,
            "count": 0
           },
           {
            "bin_start": 0.7000000000000001,
            "bin_end": 0.8,
            "count": 0
           },
           {
            "bin_start": 0.8,
            "bin_end": 0.9,
            "count": 0
           },
           {
            "bin_start": 0.9,
            "bin_end": 1,
            "count": 1
           }
          ]
         }
        },
        {
         "name": "cigsPerDay",
         "dtype": "float64",
         "stats": {
          "unique_count": 2,
          "nan_count": 0,
          "min": "0.0",
          "max": "20.0",
          "histogram": [
           {
            "bin_start": 0,
            "bin_end": 2,
            "count": 2
           },
           {
            "bin_start": 2,
            "bin_end": 4,
            "count": 0
           },
           {
            "bin_start": 4,
            "bin_end": 6,
            "count": 0
           },
           {
            "bin_start": 6,
            "bin_end": 8,
            "count": 0
           },
           {
            "bin_start": 8,
            "bin_end": 10,
            "count": 0
           },
           {
            "bin_start": 10,
            "bin_end": 12,
            "count": 0
           },
           {
            "bin_start": 12,
            "bin_end": 14,
            "count": 0
           },
           {
            "bin_start": 14,
            "bin_end": 16,
            "count": 0
           },
           {
            "bin_start": 16,
            "bin_end": 18,
            "count": 0
           },
           {
            "bin_start": 18,
            "bin_end": 20,
            "count": 1
           }
          ]
         }
        },
        {
         "name": "BPMeds",
         "dtype": "float64",
         "stats": {
          "unique_count": 1,
          "nan_count": 0,
          "min": "0.0",
          "max": "0.0",
          "histogram": [
           {
            "bin_start": -0.5,
            "bin_end": -0.4,
            "count": 0
           },
           {
            "bin_start": -0.4,
            "bin_end": -0.3,
            "count": 0
           },
           {
            "bin_start": -0.3,
            "bin_end": -0.19999999999999996,
            "count": 0
           },
           {
            "bin_start": -0.19999999999999996,
            "bin_end": -0.09999999999999998,
            "count": 0
           },
           {
            "bin_start": -0.09999999999999998,
            "bin_end": 0,
            "count": 0
           },
           {
            "bin_start": 0,
            "bin_end": 0.10000000000000009,
            "count": 3
           },
           {
            "bin_start": 0.10000000000000009,
            "bin_end": 0.20000000000000007,
            "count": 0
           },
           {
            "bin_start": 0.20000000000000007,
            "bin_end": 0.30000000000000004,
            "count": 0
           },
           {
            "bin_start": 0.30000000000000004,
            "bin_end": 0.4,
            "count": 0
           },
           {
            "bin_start": 0.4,
            "bin_end": 0.5,
            "count": 0
           }
          ]
         }
        },
        {
         "name": "prevalentStroke",
         "dtype": "int64",
         "stats": {
          "unique_count": 1,
          "nan_count": 0,
          "min": "0",
          "max": "0",
          "histogram": [
           {
            "bin_start": -0.5,
            "bin_end": -0.4,
            "count": 0
           },
           {
            "bin_start": -0.4,
            "bin_end": -0.3,
            "count": 0
           },
           {
            "bin_start": -0.3,
            "bin_end": -0.19999999999999996,
            "count": 0
           },
           {
            "bin_start": -0.19999999999999996,
            "bin_end": -0.09999999999999998,
            "count": 0
           },
           {
            "bin_start": -0.09999999999999998,
            "bin_end": 0,
            "count": 0
           },
           {
            "bin_start": 0,
            "bin_end": 0.10000000000000009,
            "count": 3
           },
           {
            "bin_start": 0.10000000000000009,
            "bin_end": 0.20000000000000007,
            "count": 0
           },
           {
            "bin_start": 0.20000000000000007,
            "bin_end": 0.30000000000000004,
            "count": 0
           },
           {
            "bin_start": 0.30000000000000004,
            "bin_end": 0.4,
            "count": 0
           },
           {
            "bin_start": 0.4,
            "bin_end": 0.5,
            "count": 0
           }
          ]
         }
        },
        {
         "name": "prevalentHyp",
         "dtype": "int64",
         "stats": {
          "unique_count": 1,
          "nan_count": 0,
          "min": "0",
          "max": "0",
          "histogram": [
           {
            "bin_start": -0.5,
            "bin_end": -0.4,
            "count": 0
           },
           {
            "bin_start": -0.4,
            "bin_end": -0.3,
            "count": 0
           },
           {
            "bin_start": -0.3,
            "bin_end": -0.19999999999999996,
            "count": 0
           },
           {
            "bin_start": -0.19999999999999996,
            "bin_end": -0.09999999999999998,
            "count": 0
           },
           {
            "bin_start": -0.09999999999999998,
            "bin_end": 0,
            "count": 0
           },
           {
            "bin_start": 0,
            "bin_end": 0.10000000000000009,
            "count": 3
           },
           {
            "bin_start": 0.10000000000000009,
            "bin_end": 0.20000000000000007,
            "count": 0
           },
           {
            "bin_start": 0.20000000000000007,
            "bin_end": 0.30000000000000004,
            "count": 0
           },
           {
            "bin_start": 0.30000000000000004,
            "bin_end": 0.4,
            "count": 0
           },
           {
            "bin_start": 0.4,
            "bin_end": 0.5,
            "count": 0
           }
          ]
         }
        },
        {
         "name": "diabetes",
         "dtype": "int64",
         "stats": {
          "unique_count": 1,
          "nan_count": 0,
          "min": "0",
          "max": "0",
          "histogram": [
           {
            "bin_start": -0.5,
            "bin_end": -0.4,
            "count": 0
           },
           {
            "bin_start": -0.4,
            "bin_end": -0.3,
            "count": 0
           },
           {
            "bin_start": -0.3,
            "bin_end": -0.19999999999999996,
            "count": 0
           },
           {
            "bin_start": -0.19999999999999996,
            "bin_end": -0.09999999999999998,
            "count": 0
           },
           {
            "bin_start": -0.09999999999999998,
            "bin_end": 0,
            "count": 0
           },
           {
            "bin_start": 0,
            "bin_end": 0.10000000000000009,
            "count": 3
           },
           {
            "bin_start": 0.10000000000000009,
            "bin_end": 0.20000000000000007,
            "count": 0
           },
           {
            "bin_start": 0.20000000000000007,
            "bin_end": 0.30000000000000004,
            "count": 0
           },
           {
            "bin_start": 0.30000000000000004,
            "bin_end": 0.4,
            "count": 0
           },
           {
            "bin_start": 0.4,
            "bin_end": 0.5,
            "count": 0
           }
          ]
         }
        },
        {
         "name": "totChol",
         "dtype": "float64",
         "stats": {
          "unique_count": 3,
          "nan_count": 0,
          "min": "195.0",
          "max": "250.0",
          "histogram": [
           {
            "bin_start": 195,
            "bin_end": 200.5,
            "count": 1
           },
           {
            "bin_start": 200.5,
            "bin_end": 206,
            "count": 0
           },
           {
            "bin_start": 206,
            "bin_end": 211.5,
            "count": 0
           },
           {
            "bin_start": 211.5,
            "bin_end": 217,
            "count": 0
           },
           {
            "bin_start": 217,
            "bin_end": 222.5,
            "count": 0
           },
           {
            "bin_start": 222.5,
            "bin_end": 228,
            "count": 0
           },
           {
            "bin_start": 228,
            "bin_end": 233.5,
            "count": 0
           },
           {
            "bin_start": 233.5,
            "bin_end": 239,
            "count": 0
           },
           {
            "bin_start": 239,
            "bin_end": 244.5,
            "count": 0
           },
           {
            "bin_start": 244.5,
            "bin_end": 250,
            "count": 2
           }
          ]
         }
        },
        {
         "name": "sysBP",
         "dtype": "float64",
         "stats": {
          "unique_count": 3,
          "nan_count": 0,
          "min": "106.0",
          "max": "127.5",
          "histogram": [
           {
            "bin_start": 106,
            "bin_end": 108.15,
            "count": 1
           },
           {
            "bin_start": 108.15,
            "bin_end": 110.3,
            "count": 0
           },
           {
            "bin_start": 110.3,
            "bin_end": 112.45,
            "count": 0
           },
           {
            "bin_start": 112.45,
            "bin_end": 114.6,
            "count": 0
           },
           {
            "bin_start": 114.6,
            "bin_end": 116.75,
            "count": 0
           },
           {
            "bin_start": 116.75,
            "bin_end": 118.9,
            "count": 0
           },
           {
            "bin_start": 118.9,
            "bin_end": 121.05,
            "count": 1
           },
           {
            "bin_start": 121.05,
            "bin_end": 123.2,
            "count": 0
           },
           {
            "bin_start": 123.2,
            "bin_end": 125.35,
            "count": 0
           },
           {
            "bin_start": 125.35,
            "bin_end": 127.5,
            "count": 1
           }
          ]
         }
        },
        {
         "name": "diaBP",
         "dtype": "float64",
         "stats": {
          "unique_count": 3,
          "nan_count": 0,
          "min": "70.0",
          "max": "81.0",
          "histogram": [
           {
            "bin_start": 70,
            "bin_end": 71.1,
            "count": 1
           },
           {
            "bin_start": 71.1,
            "bin_end": 72.2,
            "count": 0
           },
           {
            "bin_start": 72.2,
            "bin_end": 73.3,
            "count": 0
           },
           {
            "bin_start": 73.3,
            "bin_end": 74.4,
            "count": 0
           },
           {
            "bin_start": 74.4,
            "bin_end": 75.5,
            "count": 0
           },
           {
            "bin_start": 75.5,
            "bin_end": 76.6,
            "count": 0
           },
           {
            "bin_start": 76.6,
            "bin_end": 77.7,
            "count": 0
           },
           {
            "bin_start": 77.7,
            "bin_end": 78.8,
            "count": 0
           },
           {
            "bin_start": 78.8,
            "bin_end": 79.9,
            "count": 0
           },
           {
            "bin_start": 79.9,
            "bin_end": 81,
            "count": 2
           }
          ]
         }
        },
        {
         "name": "BMI",
         "dtype": "float64",
         "stats": {
          "unique_count": 3,
          "nan_count": 0,
          "min": "25.34",
          "max": "28.73",
          "histogram": [
           {
            "bin_start": 25.34,
            "bin_end": 25.679,
            "count": 1
           },
           {
            "bin_start": 25.679,
            "bin_end": 26.018,
            "count": 0
           },
           {
            "bin_start": 26.018,
            "bin_end": 26.357,
            "count": 0
           },
           {
            "bin_start": 26.357,
            "bin_end": 26.696,
            "count": 0
           },
           {
            "bin_start": 26.696,
            "bin_end": 27.035,
            "count": 1
           },
           {
            "bin_start": 27.035,
            "bin_end": 27.374000000000002,
            "count": 0
           },
           {
            "bin_start": 27.374000000000002,
            "bin_end": 27.713,
            "count": 0
           },
           {
            "bin_start": 27.713,
            "bin_end": 28.052,
            "count": 0
           },
           {
            "bin_start": 28.052,
            "bin_end": 28.391000000000002,
            "count": 0
           },
           {
            "bin_start": 28.391000000000002,
            "bin_end": 28.73,
            "count": 1
           }
          ]
         }
        },
        {
         "name": "heartRate",
         "dtype": "float64",
         "stats": {
          "unique_count": 3,
          "nan_count": 0,
          "min": "75.0",
          "max": "95.0",
          "histogram": [
           {
            "bin_start": 75,
            "bin_end": 77,
            "count": 1
           },
           {
            "bin_start": 77,
            "bin_end": 79,
            "count": 0
           },
           {
            "bin_start": 79,
            "bin_end": 81,
            "count": 1
           },
           {
            "bin_start": 81,
            "bin_end": 83,
            "count": 0
           },
           {
            "bin_start": 83,
            "bin_end": 85,
            "count": 0
           },
           {
            "bin_start": 85,
            "bin_end": 87,
            "count": 0
           },
           {
            "bin_start": 87,
            "bin_end": 89,
            "count": 0
           },
           {
            "bin_start": 89,
            "bin_end": 91,
            "count": 0
           },
           {
            "bin_start": 91,
            "bin_end": 93,
            "count": 0
           },
           {
            "bin_start": 93,
            "bin_end": 95,
            "count": 1
           }
          ]
         }
        },
        {
         "name": "glucose",
         "dtype": "float64",
         "stats": {
          "unique_count": 3,
          "nan_count": 0,
          "min": "70.0",
          "max": "77.0",
          "histogram": [
           {
            "bin_start": 70,
            "bin_end": 70.7,
            "count": 1
           },
           {
            "bin_start": 70.7,
            "bin_end": 71.4,
            "count": 0
           },
           {
            "bin_start": 71.4,
            "bin_end": 72.1,
            "count": 0
           },
           {
            "bin_start": 72.1,
            "bin_end": 72.8,
            "count": 0
           },
           {
            "bin_start": 72.8,
            "bin_end": 73.5,
            "count": 0
           },
           {
            "bin_start": 73.5,
            "bin_end": 74.2,
            "count": 0
           },
           {
            "bin_start": 74.2,
            "bin_end": 74.9,
            "count": 0
           },
           {
            "bin_start": 74.9,
            "bin_end": 75.6,
            "count": 0
           },
           {
            "bin_start": 75.6,
            "bin_end": 76.3,
            "count": 1
           },
           {
            "bin_start": 76.3,
            "bin_end": 77,
            "count": 1
           }
          ]
         }
        },
        {
         "name": "TenYearCHD",
         "dtype": "int64",
         "stats": {
          "unique_count": 1,
          "nan_count": 0,
          "min": "0",
          "max": "0",
          "histogram": [
           {
            "bin_start": -0.5,
            "bin_end": -0.4,
            "count": 0
           },
           {
            "bin_start": -0.4,
            "bin_end": -0.3,
            "count": 0
           },
           {
            "bin_start": -0.3,
            "bin_end": -0.19999999999999996,
            "count": 0
           },
           {
            "bin_start": -0.19999999999999996,
            "bin_end": -0.09999999999999998,
            "count": 0
           },
           {
            "bin_start": -0.09999999999999998,
            "bin_end": 0,
            "count": 0
           },
           {
            "bin_start": 0,
            "bin_end": 0.10000000000000009,
            "count": 3
           },
           {
            "bin_start": 0.10000000000000009,
            "bin_end": 0.20000000000000007,
            "count": 0
           },
           {
            "bin_start": 0.20000000000000007,
            "bin_end": 0.30000000000000004,
            "count": 0
           },
           {
            "bin_start": 0.30000000000000004,
            "bin_end": 0.4,
            "count": 0
           },
           {
            "bin_start": 0.4,
            "bin_end": 0.5,
            "count": 0
           }
          ]
         }
        },
        {
         "name": "_deepnote_index_column",
         "dtype": "int64"
        }
       ],
       "rows": [
        {
         "male": 1,
         "age": 39,
         "education": 4,
         "currentSmoker": 0,
         "cigsPerDay": 0,
         "BPMeds": 0,
         "prevalentStroke": 0,
         "prevalentHyp": 0,
         "diabetes": 0,
         "totChol": 195,
         "sysBP": 106,
         "diaBP": 70,
         "BMI": 26.97,
         "heartRate": 80,
         "glucose": 77,
         "TenYearCHD": 0,
         "_deepnote_index_column": 0
        },
        {
         "male": 0,
         "age": 46,
         "education": 2,
         "currentSmoker": 0,
         "cigsPerDay": 0,
         "BPMeds": 0,
         "prevalentStroke": 0,
         "prevalentHyp": 0,
         "diabetes": 0,
         "totChol": 250,
         "sysBP": 121,
         "diaBP": 81,
         "BMI": 28.73,
         "heartRate": 95,
         "glucose": 76,
         "TenYearCHD": 0,
         "_deepnote_index_column": 1
        },
        {
         "male": 1,
         "age": 48,
         "education": 1,
         "currentSmoker": 1,
         "cigsPerDay": 20,
         "BPMeds": 0,
         "prevalentStroke": 0,
         "prevalentHyp": 0,
         "diabetes": 0,
         "totChol": 245,
         "sysBP": 127.5,
         "diaBP": 80,
         "BMI": 25.34,
         "heartRate": 75,
         "glucose": 70,
         "TenYearCHD": 0,
         "_deepnote_index_column": 2
        }
       ]
      },
      "text/plain": "   male  age  education  currentSmoker  cigsPerDay  BPMeds  prevalentStroke  \\\n0     1   39        4.0              0         0.0     0.0                0   \n1     0   46        2.0              0         0.0     0.0                0   \n2     1   48        1.0              1        20.0     0.0                0   \n\n   prevalentHyp  diabetes  totChol  sysBP  diaBP    BMI  heartRate  glucose  \\\n0             0         0    195.0  106.0   70.0  26.97       80.0     77.0   \n1             0         0    250.0  121.0   81.0  28.73       95.0     76.0   \n2             0         0    245.0  127.5   80.0  25.34       75.0     70.0   \n\n   TenYearCHD  \n0           0  \n1           0  \n2           0  ",
      "text/html": "<div>\n<style scoped>\n    .dataframe tbody tr th:only-of-type {\n        vertical-align: middle;\n    }\n\n    .dataframe tbody tr th {\n        vertical-align: top;\n    }\n\n    .dataframe thead th {\n        text-align: right;\n    }\n</style>\n<table border=\"1\" class=\"dataframe\">\n  <thead>\n    <tr style=\"text-align: right;\">\n      <th></th>\n      <th>male</th>\n      <th>age</th>\n      <th>education</th>\n      <th>currentSmoker</th>\n      <th>cigsPerDay</th>\n      <th>BPMeds</th>\n      <th>prevalentStroke</th>\n      <th>prevalentHyp</th>\n      <th>diabetes</th>\n      <th>totChol</th>\n      <th>sysBP</th>\n      <th>diaBP</th>\n      <th>BMI</th>\n      <th>heartRate</th>\n      <th>glucose</th>\n      <th>TenYearCHD</th>\n    </tr>\n  </thead>\n  <tbody>\n    <tr>\n      <th>0</th>\n      <td>1</td>\n      <td>39</td>\n      <td>4.0</td>\n      <td>0</td>\n      <td>0.0</td>\n      <td>0.0</td>\n      <td>0</td>\n      <td>0</td>\n      <td>0</td>\n      <td>195.0</td>\n      <td>106.0</td>\n      <td>70.0</td>\n      <td>26.97</td>\n      <td>80.0</td>\n      <td>77.0</td>\n      <td>0</td>\n    </tr>\n    <tr>\n      <th>1</th>\n      <td>0</td>\n      <td>46</td>\n      <td>2.0</td>\n      <td>0</td>\n      <td>0.0</td>\n      <td>0.0</td>\n      <td>0</td>\n      <td>0</td>\n      <td>0</td>\n      <td>250.0</td>\n      <td>121.0</td>\n      <td>81.0</td>\n      <td>28.73</td>\n      <td>95.0</td>\n      <td>76.0</td>\n      <td>0</td>\n    </tr>\n    <tr>\n      <th>2</th>\n      <td>1</td>\n      <td>48</td>\n      <td>1.0</td>\n      <td>1</td>\n      <td>20.0</td>\n      <td>0.0</td>\n      <td>0</td>\n      <td>0</td>\n      <td>0</td>\n      <td>245.0</td>\n      <td>127.5</td>\n      <td>80.0</td>\n      <td>25.34</td>\n      <td>75.0</td>\n      <td>70.0</td>\n      <td>0</td>\n    </tr>\n  </tbody>\n</table>\n</div>"
     },
     "metadata": {}
    }
   ]
  },
  {
   "cell_type": "markdown",
   "source": "### EDA and Data Cleaning",
   "metadata": {
    "cell_id": "15cbdc8c4d664731a4d570b212a62eb9",
    "tags": [],
    "deepnote_cell_type": "markdown",
    "deepnote_cell_height": 62
   }
  },
  {
   "cell_type": "code",
   "metadata": {
    "cell_id": "4824c1d995b54772903e968b37237fc5",
    "tags": [],
    "deepnote_to_be_reexecuted": false,
    "source_hash": "2bb04b6c",
    "execution_start": 1652111429157,
    "execution_millis": 7,
    "deepnote_cell_type": "code",
    "deepnote_cell_height": 153
   },
   "source": "#Droping education column\ndf_heart_disease.drop(columns='education',inplace=True)\n\n#Droping the observations that have at least one missing value\ndf_heart_disease.dropna(axis=0,inplace=True)",
   "execution_count": null,
   "outputs": []
  },
  {
   "cell_type": "code",
   "metadata": {
    "cell_id": "d1e7956f816e439db136b0433400436a",
    "tags": [],
    "deepnote_to_be_reexecuted": false,
    "source_hash": "ad9b896d",
    "execution_start": 1652111429170,
    "execution_millis": 4683,
    "deepnote_cell_type": "code",
    "deepnote_cell_height": 4536,
    "deepnote_output_heights": [
     264,
     264,
     267,
     264,
     264,
     264,
     264,
     264,
     264,
     267,
     264,
     264,
     264,
     267,
     264
    ]
   },
   "source": "for column in df_heart_disease.columns:\n    sns.histplot(x= column,data = df_heart_disease)\n    plt.show()",
   "execution_count": null,
   "outputs": [
    {
     "data": {
      "text/plain": "<Figure size 432x288 with 1 Axes>",
      "image/png": "[encoded data removed]"
     },
     "metadata": {
      "needs_background": "light",
      "image/png": {
       "width": 395,
       "height": 262
      }
     },
     "output_type": "display_data"
    },
    {
     "data": {
      "text/plain": "<Figure size 432x288 with 1 Axes>",
      "image/png": "[encoded data removed]"
     },
     "metadata": {
      "needs_background": "light",
      "image/png": {
       "width": 389,
       "height": 262
      }
     },
     "output_type": "display_data"
    },
    {
     "data": {
      "text/plain": "<Figure size 432x288 with 1 Axes>",
      "image/png": "[encoded data removed]"
     },
     "metadata": {
      "needs_background": "light",
      "image/png": {
       "width": 395,
       "height": 265
      }
     },
     "output_type": "display_data"
    },
    {
     "data": {
      "text/plain": "<Figure size 432x288 with 1 Axes>",
      "image/png": "[encoded data removed]"
     },
     "metadata": {
      "needs_background": "light",
      "image/png": {
       "width": 395,
       "height": 262
      }
     },
     "output_type": "display_data"
    },
    {
     "data": {
      "text/plain": "<Figure size 432x288 with 1 Axes>",
      "image/png": "[encoded data removed]"
     },
     "metadata": {
      "needs_background": "light",
      "image/png": {
       "width": 395,
       "height": 262
      }
     },
     "output_type": "display_data"
    },
    {
     "data": {
      "text/plain": "<Figure size 432x288 with 1 Axes>",
      "image/png": "[encoded data removed]"
     },
     "metadata": {
      "needs_background": "light",
      "image/png": {
       "width": 395,
       "height": 262
      }
     },
     "output_type": "display_data"
    },
    {
     "data": {
      "text/plain": "<Figure size 432x288 with 1 Axes>",
      "image/png": "[encoded data removed]"
     },
     "metadata": {
      "needs_background": "light",
      "image/png": {
       "width": 395,
       "height": 262
      }
     },
     "output_type": "display_data"
    },
    {
     "data": {
      "text/plain": "<Figure size 432x288 with 1 Axes>",
      "image/png": "[encoded data removed]"
     },
     "metadata": {
      "needs_background": "light",
      "image/png": {
       "width": 395,
       "height": 262
      }
     },
     "output_type": "display_data"
    },
    {
     "data": {
      "text/plain": "<Figure size 432x288 with 1 Axes>",
      "image/png": "[encoded data removed]"
     },
     "metadata": {
      "needs_background": "light",
      "image/png": {
       "width": 389,
       "height": 262
      }
     },
     "output_type": "display_data"
    },
    {
     "data": {
      "text/plain": "<Figure size 432x288 with 1 Axes>",
      "image/png": "[encoded data removed]"
     },
     "metadata": {
      "needs_background": "light",
      "image/png": {
       "width": 390,
       "height": 265
      }
     },
     "output_type": "display_data"
    },
    {
     "data": {
      "text/plain": "<Figure size 432x288 with 1 Axes>",
      "image/png": "[encoded data removed]"
     },
     "metadata": {
      "needs_background": "light",
      "image/png": {
       "width": 389,
       "height": 262
      }
     },
     "output_type": "display_data"
    },
    {
     "data": {
      "text/plain": "<Figure size 432x288 with 1 Axes>",
      "image/png": "[encoded data removed]"
     },
     "metadata": {
      "needs_background": "light",
      "image/png": {
       "width": 389,
       "height": 262
      }
     },
     "output_type": "display_data"
    },
    {
     "data": {
      "text/plain": "<Figure size 432x288 with 1 Axes>",
      "image/png": "[encoded data removed]"
     },
     "metadata": {
      "needs_background": "light",
      "image/png": {
       "width": 389,
       "height": 262
      }
     },
     "output_type": "display_data"
    },
    {
     "data": {
      "text/plain": "<Figure size 432x288 with 1 Axes>",
      "image/png": "[encoded data removed]"
     },
     "metadata": {
      "needs_background": "light",
      "image/png": {
       "width": 389,
       "height": 265
      }
     },
     "output_type": "display_data"
    },
    {
     "data": {
      "text/plain": "<Figure size 432x288 with 1 Axes>",
      "image/png": "[encoded data removed]"
     },
     "metadata": {
      "needs_background": "light",
      "image/png": {
       "width": 395,
       "height": 262
      }
     },
     "output_type": "display_data"
    }
   ]
  },
  {
   "cell_type": "code",
   "metadata": {
    "cell_id": "2aeb6c80c18140dc8e608e84001da1e4",
    "tags": [],
    "deepnote_to_be_reexecuted": false,
    "source_hash": "51f94a24",
    "execution_start": 1652111433297,
    "execution_millis": 581,
    "deepnote_cell_type": "code",
    "deepnote_cell_height": 502
   },
   "source": "df_heart_disease_No = df_heart_disease[df_heart_disease['TenYearCHD']==0].sample(n=600,random_state=2)\ndf_heart_disease_Yes = df_heart_disease[df_heart_disease['TenYearCHD']==1]\ndf_heart_disease_sample = pd.concat([df_heart_disease_No,df_heart_disease_Yes],axis=0)\ndf_heart_disease_sample = df_heart_disease_sample.sample(frac = 1)\ndf_heart_disease_sample.reset_index( drop=True, inplace=True)\ndf_heart_disease_sample.head(5)",
   "execution_count": null,
   "outputs": [
    {
     "output_type": "execute_result",
     "execution_count": 8,
     "data": {
      "application/vnd.deepnote.dataframe.v3+json": {
       "column_count": 15,
       "row_count": 5,
       "columns": [
        {
         "name": "male",
         "dtype": "int64",
         "stats": {
          "unique_count": 2,
          "nan_count": 0,
          "min": "0",
          "max": "1",
          "histogram": [
           {
            "bin_start": 0,
            "bin_end": 0.1,
            "count": 1
           },
           {
            "bin_start": 0.1,
            "bin_end": 0.2,
            "count": 0
           },
           {
            "bin_start": 0.2,
            "bin_end": 0.30000000000000004,
            "count": 0
           },
           {
            "bin_start": 0.30000000000000004,
            "bin_end": 0.4,
            "count": 0
           },
           {
            "bin_start": 0.4,
            "bin_end": 0.5,
            "count": 0
           },
           {
            "bin_start": 0.5,
            "bin_end": 0.6000000000000001,
            "count": 0
           },
           {
            "bin_start": 0.6000000000000001,
            "bin_end": 0.7000000000000001,
            "count": 0
           },
           {
            "bin_start": 0.7000000000000001,
            "bin_end": 0.8,
            "count": 0
           },
           {
            "bin_start": 0.8,
            "bin_end": 0.9,
            "count": 0
           },
           {
            "bin_start": 0.9,
            "bin_end": 1,
            "count": 4
           }
          ]
         }
        },
        {
         "name": "age",
         "dtype": "int64",
         "stats": {
          "unique_count": 5,
          "nan_count": 0,
          "min": "42",
          "max": "68",
          "histogram": [
           {
            "bin_start": 42,
            "bin_end": 44.6,
            "count": 2
           },
           {
            "bin_start": 44.6,
            "bin_end": 47.2,
            "count": 0
           },
           {
            "bin_start": 47.2,
            "bin_end": 49.8,
            "count": 0
           },
           {
            "bin_start": 49.8,
            "bin_end": 52.4,
            "count": 0
           },
           {
            "bin_start": 52.4,
            "bin_end": 55,
            "count": 0
           },
           {
            "bin_start": 55,
            "bin_end": 57.6,
            "count": 1
           },
           {
            "bin_start": 57.6,
            "bin_end": 60.2,
            "count": 1
           },
           {
            "bin_start": 60.2,
            "bin_end": 62.8,
            "count": 0
           },
           {
            "bin_start": 62.8,
            "bin_end": 65.4,
            "count": 0
           },
           {
            "bin_start": 65.4,
            "bin_end": 68,
            "count": 1
           }
          ]
         }
        },
        {
         "name": "currentSmoker",
         "dtype": "int64",
         "stats": {
          "unique_count": 2,
          "nan_count": 0,
          "min": "0",
          "max": "1",
          "histogram": [
           {
            "bin_start": 0,
            "bin_end": 0.1,
            "count": 2
           },
           {
            "bin_start": 0.1,
            "bin_end": 0.2,
            "count": 0
           },
           {
            "bin_start": 0.2,
            "bin_end": 0.30000000000000004,
            "count": 0
           },
           {
            "bin_start": 0.30000000000000004,
            "bin_end": 0.4,
            "count": 0
           },
           {
            "bin_start": 0.4,
            "bin_end": 0.5,
            "count": 0
           },
           {
            "bin_start": 0.5,
            "bin_end": 0.6000000000000001,
            "count": 0
           },
           {
            "bin_start": 0.6000000000000001,
            "bin_end": 0.7000000000000001,
            "count": 0
           },
           {
            "bin_start": 0.7000000000000001,
            "bin_end": 0.8,
            "count": 0
           },
           {
            "bin_start": 0.8,
            "bin_end": 0.9,
            "count": 0
           },
           {
            "bin_start": 0.9,
            "bin_end": 1,
            "count": 3
           }
          ]
         }
        },
        {
         "name": "cigsPerDay",
         "dtype": "float64",
         "stats": {
          "unique_count": 4,
          "nan_count": 0,
          "min": "0.0",
          "max": "30.0",
          "histogram": [
           {
            "bin_start": 0,
            "bin_end": 3,
            "count": 2
           },
           {
            "bin_start": 3,
            "bin_end": 6,
            "count": 0
           },
           {
            "bin_start": 6,
            "bin_end": 9,
            "count": 0
           },
           {
            "bin_start": 9,
            "bin_end": 12,
            "count": 0
           },
           {
            "bin_start": 12,
            "bin_end": 15,
            "count": 0
           },
           {
            "bin_start": 15,
            "bin_end": 18,
            "count": 1
           },
           {
            "bin_start": 18,
            "bin_end": 21,
            "count": 1
           },
           {
            "bin_start": 21,
            "bin_end": 24,
            "count": 0
           },
           {
            "bin_start": 24,
            "bin_end": 27,
            "count": 0
           },
           {
            "bin_start": 27,
            "bin_end": 30,
            "count": 1
           }
          ]
         }
        },
        {
         "name": "BPMeds",
         "dtype": "float64",
         "stats": {
          "unique_count": 1,
          "nan_count": 0,
          "min": "0.0",
          "max": "0.0",
          "histogram": [
           {
            "bin_start": -0.5,
            "bin_end": -0.4,
            "count": 0
           },
           {
            "bin_start": -0.4,
            "bin_end": -0.3,
            "count": 0
           },
           {
            "bin_start": -0.3,
            "bin_end": -0.19999999999999996,
            "count": 0
           },
           {
            "bin_start": -0.19999999999999996,
            "bin_end": -0.09999999999999998,
            "count": 0
           },
           {
            "bin_start": -0.09999999999999998,
            "bin_end": 0,
            "count": 0
           },
           {
            "bin_start": 0,
            "bin_end": 0.10000000000000009,
            "count": 5
           },
           {
            "bin_start": 0.10000000000000009,
            "bin_end": 0.20000000000000007,
            "count": 0
           },
           {
            "bin_start": 0.20000000000000007,
            "bin_end": 0.30000000000000004,
            "count": 0
           },
           {
            "bin_start": 0.30000000000000004,
            "bin_end": 0.4,
            "count": 0
           },
           {
            "bin_start": 0.4,
            "bin_end": 0.5,
            "count": 0
           }
          ]
         }
        },
        {
         "name": "prevalentStroke",
         "dtype": "int64",
         "stats": {
          "unique_count": 1,
          "nan_count": 0,
          "min": "0",
          "max": "0",
          "histogram": [
           {
            "bin_start": -0.5,
            "bin_end": -0.4,
            "count": 0
           },
           {
            "bin_start": -0.4,
            "bin_end": -0.3,
            "count": 0
           },
           {
            "bin_start": -0.3,
            "bin_end": -0.19999999999999996,
            "count": 0
           },
           {
            "bin_start": -0.19999999999999996,
            "bin_end": -0.09999999999999998,
            "count": 0
           },
           {
            "bin_start": -0.09999999999999998,
            "bin_end": 0,
            "count": 0
           },
           {
            "bin_start": 0,
            "bin_end": 0.10000000000000009,
            "count": 5
           },
           {
            "bin_start": 0.10000000000000009,
            "bin_end": 0.20000000000000007,
            "count": 0
           },
           {
            "bin_start": 0.20000000000000007,
            "bin_end": 0.30000000000000004,
            "count": 0
           },
           {
            "bin_start": 0.30000000000000004,
            "bin_end": 0.4,
            "count": 0
           },
           {
            "bin_start": 0.4,
            "bin_end": 0.5,
            "count": 0
           }
          ]
         }
        },
        {
         "name": "prevalentHyp",
         "dtype": "int64",
         "stats": {
          "unique_count": 2,
          "nan_count": 0,
          "min": "0",
          "max": "1",
          "histogram": [
           {
            "bin_start": 0,
            "bin_end": 0.1,
            "count": 3
           },
           {
            "bin_start": 0.1,
            "bin_end": 0.2,
            "count": 0
           },
           {
            "bin_start": 0.2,
            "bin_end": 0.30000000000000004,
            "count": 0
           },
           {
            "bin_start": 0.30000000000000004,
            "bin_end": 0.4,
            "count": 0
           },
           {
            "bin_start": 0.4,
            "bin_end": 0.5,
            "count": 0
           },
           {
            "bin_start": 0.5,
            "bin_end": 0.6000000000000001,
            "count": 0
           },
           {
            "bin_start": 0.6000000000000001,
            "bin_end": 0.7000000000000001,
            "count": 0
           },
           {
            "bin_start": 0.7000000000000001,
            "bin_end": 0.8,
            "count": 0
           },
           {
            "bin_start": 0.8,
            "bin_end": 0.9,
            "count": 0
           },
           {
            "bin_start": 0.9,
            "bin_end": 1,
            "count": 2
           }
          ]
         }
        },
        {
         "name": "diabetes",
         "dtype": "int64",
         "stats": {
          "unique_count": 1,
          "nan_count": 0,
          "min": "0",
          "max": "0",
          "histogram": [
           {
            "bin_start": -0.5,
            "bin_end": -0.4,
            "count": 0
           },
           {
            "bin_start": -0.4,
            "bin_end": -0.3,
            "count": 0
           },
           {
            "bin_start": -0.3,
            "bin_end": -0.19999999999999996,
            "count": 0
           },
           {
            "bin_start": -0.19999999999999996,
            "bin_end": -0.09999999999999998,
            "count": 0
           },
           {
            "bin_start": -0.09999999999999998,
            "bin_end": 0,
            "count": 0
           },
           {
            "bin_start": 0,
            "bin_end": 0.10000000000000009,
            "count": 5
           },
           {
            "bin_start": 0.10000000000000009,
            "bin_end": 0.20000000000000007,
            "count": 0
           },
           {
            "bin_start": 0.20000000000000007,
            "bin_end": 0.30000000000000004,
            "count": 0
           },
           {
            "bin_start": 0.30000000000000004,
            "bin_end": 0.4,
            "count": 0
           },
           {
            "bin_start": 0.4,
            "bin_end": 0.5,
            "count": 0
           }
          ]
         }
        },
        {
         "name": "totChol",
         "dtype": "float64",
         "stats": {
          "unique_count": 5,
          "nan_count": 0,
          "min": "157.0",
          "max": "367.0",
          "histogram": [
           {
            "bin_start": 157,
            "bin_end": 178,
            "count": 1
           },
           {
            "bin_start": 178,
            "bin_end": 199,
            "count": 0
           },
           {
            "bin_start": 199,
            "bin_end": 220,
            "count": 0
           },
           {
            "bin_start": 220,
            "bin_end": 241,
            "count": 0
           },
           {
            "bin_start": 241,
            "bin_end": 262,
            "count": 1
           },
           {
            "bin_start": 262,
            "bin_end": 283,
            "count": 1
           },
           {
            "bin_start": 283,
            "bin_end": 304,
            "count": 1
           },
           {
            "bin_start": 304,
            "bin_end": 325,
            "count": 0
           },
           {
            "bin_start": 325,
            "bin_end": 346,
            "count": 0
           },
           {
            "bin_start": 346,
            "bin_end": 367,
            "count": 1
           }
          ]
         }
        },
        {
         "name": "sysBP",
         "dtype": "float64",
         "stats": {
          "unique_count": 5,
          "nan_count": 0,
          "min": "106.0",
          "max": "141.0",
          "histogram": [
           {
            "bin_start": 106,
            "bin_end": 109.5,
            "count": 1
           },
           {
            "bin_start": 109.5,
            "bin_end": 113,
            "count": 0
           },
           {
            "bin_start": 113,
            "bin_end": 116.5,
            "count": 0
           },
           {
            "bin_start": 116.5,
            "bin_end": 120,
            "count": 2
           },
           {
            "bin_start": 120,
            "bin_end": 123.5,
            "count": 0
           },
           {
            "bin_start": 123.5,
            "bin_end": 127,
            "count": 0
           },
           {
            "bin_start": 127,
            "bin_end": 130.5,
            "count": 0
           },
           {
            "bin_start": 130.5,
            "bin_end": 134,
            "count": 0
           },
           {
            "bin_start": 134,
            "bin_end": 137.5,
            "count": 1
           },
           {
            "bin_start": 137.5,
            "bin_end": 141,
            "count": 1
           }
          ]
         }
        },
        {
         "name": "diaBP",
         "dtype": "float64",
         "stats": {
          "unique_count": 5,
          "nan_count": 0,
          "min": "48.0",
          "max": "97.0",
          "histogram": [
           {
            "bin_start": 48,
            "bin_end": 52.9,
            "count": 1
           },
           {
            "bin_start": 52.9,
            "bin_end": 57.8,
            "count": 0
           },
           {
            "bin_start": 57.8,
            "bin_end": 62.7,
            "count": 0
           },
           {
            "bin_start": 62.7,
            "bin_end": 67.6,
            "count": 1
           },
           {
            "bin_start": 67.6,
            "bin_end": 72.5,
            "count": 0
           },
           {
            "bin_start": 72.5,
            "bin_end": 77.4,
            "count": 0
           },
           {
            "bin_start": 77.4,
            "bin_end": 82.30000000000001,
            "count": 0
           },
           {
            "bin_start": 82.30000000000001,
            "bin_end": 87.2,
            "count": 2
           },
           {
            "bin_start": 87.2,
            "bin_end": 92.1,
            "count": 0
           },
           {
            "bin_start": 92.1,
            "bin_end": 97,
            "count": 1
           }
          ]
         }
        },
        {
         "name": "BMI",
         "dtype": "float64",
         "stats": {
          "unique_count": 5,
          "nan_count": 0,
          "min": "19.77",
          "max": "30.03",
          "histogram": [
           {
            "bin_start": 19.77,
            "bin_end": 20.796,
            "count": 1
           },
           {
            "bin_start": 20.796,
            "bin_end": 21.822,
            "count": 0
           },
           {
            "bin_start": 21.822,
            "bin_end": 22.848,
            "count": 0
           },
           {
            "bin_start": 22.848,
            "bin_end": 23.874000000000002,
            "count": 0
           },
           {
            "bin_start": 23.874000000000002,
            "bin_end": 24.9,
            "count": 0
           },
           {
            "bin_start": 24.9,
            "bin_end": 25.926000000000002,
            "count": 1
           },
           {
            "bin_start": 25.926000000000002,
            "bin_end": 26.952,
            "count": 2
           },
           {
            "bin_start": 26.952,
            "bin_end": 27.978,
            "count": 0
           },
           {
            "bin_start": 27.978,
            "bin_end": 29.004,
            "count": 0
           },
           {
            "bin_start": 29.004,
            "bin_end": 30.03,
            "count": 1
           }
          ]
         }
        },
        {
         "name": "heartRate",
         "dtype": "float64",
         "stats": {
          "unique_count": 5,
          "nan_count": 0,
          "min": "65.0",
          "max": "93.0",
          "histogram": [
           {
            "bin_start": 65,
            "bin_end": 67.8,
            "count": 1
           },
           {
            "bin_start": 67.8,
            "bin_end": 70.6,
            "count": 2
           },
           {
            "bin_start": 70.6,
            "bin_end": 73.4,
            "count": 0
           },
           {
            "bin_start": 73.4,
            "bin_end": 76.2,
            "count": 0
           },
           {
            "bin_start": 76.2,
            "bin_end": 79,
            "count": 0
           },
           {
            "bin_start": 79,
            "bin_end": 81.8,
            "count": 0
           },
           {
            "bin_start": 81.8,
            "bin_end": 84.6,
            "count": 0
           },
           {
            "bin_start": 84.6,
            "bin_end": 87.4,
            "count": 0
           },
           {
            "bin_start": 87.4,
            "bin_end": 90.2,
            "count": 0
           },
           {
            "bin_start": 90.2,
            "bin_end": 93,
            "count": 2
           }
          ]
         }
        },
        {
         "name": "glucose",
         "dtype": "float64",
         "stats": {
          "unique_count": 5,
          "nan_count": 0,
          "min": "65.0",
          "max": "106.0",
          "histogram": [
           {
            "bin_start": 65,
            "bin_end": 69.1,
            "count": 1
           },
           {
            "bin_start": 69.1,
            "bin_end": 73.2,
            "count": 0
           },
           {
            "bin_start": 73.2,
            "bin_end": 77.3,
            "count": 1
           },
           {
            "bin_start": 77.3,
            "bin_end": 81.4,
            "count": 0
           },
           {
            "bin_start": 81.4,
            "bin_end": 85.5,
            "count": 0
           },
           {
            "bin_start": 85.5,
            "bin_end": 89.6,
            "count": 1
           },
           {
            "bin_start": 89.6,
            "bin_end": 93.69999999999999,
            "count": 1
           },
           {
            "bin_start": 93.69999999999999,
            "bin_end": 97.8,
            "count": 0
           },
           {
            "bin_start": 97.8,
            "bin_end": 101.9,
            "count": 0
           },
           {
            "bin_start": 101.9,
            "bin_end": 106,
            "count": 1
           }
          ]
         }
        },
        {
         "name": "TenYearCHD",
         "dtype": "int64",
         "stats": {
          "unique_count": 2,
          "nan_count": 0,
          "min": "0",
          "max": "1",
          "histogram": [
           {
            "bin_start": 0,
            "bin_end": 0.1,
            "count": 2
           },
           {
            "bin_start": 0.1,
            "bin_end": 0.2,
            "count": 0
           },
           {
            "bin_start": 0.2,
            "bin_end": 0.30000000000000004,
            "count": 0
           },
           {
            "bin_start": 0.30000000000000004,
            "bin_end": 0.4,
            "count": 0
           },
           {
            "bin_start": 0.4,
            "bin_end": 0.5,
            "count": 0
           },
           {
            "bin_start": 0.5,
            "bin_end": 0.6000000000000001,
            "count": 0
           },
           {
            "bin_start": 0.6000000000000001,
            "bin_end": 0.7000000000000001,
            "count": 0
           },
           {
            "bin_start": 0.7000000000000001,
            "bin_end": 0.8,
            "count": 0
           },
           {
            "bin_start": 0.8,
            "bin_end": 0.9,
            "count": 0
           },
           {
            "bin_start": 0.9,
            "bin_end": 1,
            "count": 3
           }
          ]
         }
        },
        {
         "name": "_deepnote_index_column",
         "dtype": "int64"
        }
       ],
       "rows": [
        {
         "male": 1,
         "age": 42,
         "currentSmoker": 1,
         "cigsPerDay": 20,
         "BPMeds": 0,
         "prevalentStroke": 0,
         "prevalentHyp": 0,
         "diabetes": 0,
         "totChol": 241,
         "sysBP": 118,
         "diaBP": 85,
         "BMI": 30.03,
         "heartRate": 68,
         "glucose": 74,
         "TenYearCHD": 1,
         "_deepnote_index_column": 0
        },
        {
         "male": 0,
         "age": 59,
         "currentSmoker": 0,
         "cigsPerDay": 0,
         "BPMeds": 0,
         "prevalentStroke": 0,
         "prevalentHyp": 0,
         "diabetes": 0,
         "totChol": 271,
         "sysBP": 117.5,
         "diaBP": 65,
         "BMI": 19.77,
         "heartRate": 70,
         "glucose": 89,
         "TenYearCHD": 1,
         "_deepnote_index_column": 1
        },
        {
         "male": 1,
         "age": 56,
         "currentSmoker": 1,
         "cigsPerDay": 30,
         "BPMeds": 0,
         "prevalentStroke": 0,
         "prevalentHyp": 1,
         "diabetes": 0,
         "totChol": 303,
         "sysBP": 136.5,
         "diaBP": 97,
         "BMI": 26.64,
         "heartRate": 93,
         "glucose": 106,
         "TenYearCHD": 0,
         "_deepnote_index_column": 2
        },
        {
         "male": 1,
         "age": 68,
         "currentSmoker": 1,
         "cigsPerDay": 15,
         "BPMeds": 0,
         "prevalentStroke": 0,
         "prevalentHyp": 0,
         "diabetes": 0,
         "totChol": 157,
         "sysBP": 106,
         "diaBP": 48,
         "BMI": 26.73,
         "heartRate": 65,
         "glucose": 65,
         "TenYearCHD": 1,
         "_deepnote_index_column": 3
        },
        {
         "male": 1,
         "age": 43,
         "currentSmoker": 0,
         "cigsPerDay": 0,
         "BPMeds": 0,
         "prevalentStroke": 0,
         "prevalentHyp": 1,
         "diabetes": 0,
         "totChol": 367,
         "sysBP": 141,
         "diaBP": 82.5,
         "BMI": 25.62,
         "heartRate": 92,
         "glucose": 90,
         "TenYearCHD": 0,
         "_deepnote_index_column": 4
        }
       ]
      },
      "text/plain": "   male  age  currentSmoker  cigsPerDay  BPMeds  prevalentStroke  \\\n0     1   42              1        20.0     0.0                0   \n1     0   59              0         0.0     0.0                0   \n2     1   56              1        30.0     0.0                0   \n3     1   68              1        15.0     0.0                0   \n4     1   43              0         0.0     0.0                0   \n\n   prevalentHyp  diabetes  totChol  sysBP  diaBP    BMI  heartRate  glucose  \\\n0             0         0    241.0  118.0   85.0  30.03       68.0     74.0   \n1             0         0    271.0  117.5   65.0  19.77       70.0     89.0   \n2             1         0    303.0  136.5   97.0  26.64       93.0    106.0   \n3             0         0    157.0  106.0   48.0  26.73       65.0     65.0   \n4             1         0    367.0  141.0   82.5  25.62       92.0     90.0   \n\n   TenYearCHD  \n0           1  \n1           1  \n2           0  \n3           1  \n4           0  ",
      "text/html": "<div>\n<style scoped>\n    .dataframe tbody tr th:only-of-type {\n        vertical-align: middle;\n    }\n\n    .dataframe tbody tr th {\n        vertical-align: top;\n    }\n\n    .dataframe thead th {\n        text-align: right;\n    }\n</style>\n<table border=\"1\" class=\"dataframe\">\n  <thead>\n    <tr style=\"text-align: right;\">\n      <th></th>\n      <th>male</th>\n      <th>age</th>\n      <th>currentSmoker</th>\n      <th>cigsPerDay</th>\n      <th>BPMeds</th>\n      <th>prevalentStroke</th>\n      <th>prevalentHyp</th>\n      <th>diabetes</th>\n      <th>totChol</th>\n      <th>sysBP</th>\n      <th>diaBP</th>\n      <th>BMI</th>\n      <th>heartRate</th>\n      <th>glucose</th>\n      <th>TenYearCHD</th>\n    </tr>\n  </thead>\n  <tbody>\n    <tr>\n      <th>0</th>\n      <td>1</td>\n      <td>42</td>\n      <td>1</td>\n      <td>20.0</td>\n      <td>0.0</td>\n      <td>0</td>\n      <td>0</td>\n      <td>0</td>\n      <td>241.0</td>\n      <td>118.0</td>\n      <td>85.0</td>\n      <td>30.03</td>\n      <td>68.0</td>\n      <td>74.0</td>\n      <td>1</td>\n    </tr>\n    <tr>\n      <th>1</th>\n      <td>0</td>\n      <td>59</td>\n      <td>0</td>\n      <td>0.0</td>\n      <td>0.0</td>\n      <td>0</td>\n      <td>0</td>\n      <td>0</td>\n      <td>271.0</td>\n      <td>117.5</td>\n      <td>65.0</td>\n      <td>19.77</td>\n      <td>70.0</td>\n      <td>89.0</td>\n      <td>1</td>\n    </tr>\n    <tr>\n      <th>2</th>\n      <td>1</td>\n      <td>56</td>\n      <td>1</td>\n      <td>30.0</td>\n      <td>0.0</td>\n      <td>0</td>\n      <td>1</td>\n      <td>0</td>\n      <td>303.0</td>\n      <td>136.5</td>\n      <td>97.0</td>\n      <td>26.64</td>\n      <td>93.0</td>\n      <td>106.0</td>\n      <td>0</td>\n    </tr>\n    <tr>\n      <th>3</th>\n      <td>1</td>\n      <td>68</td>\n      <td>1</td>\n      <td>15.0</td>\n      <td>0.0</td>\n      <td>0</td>\n      <td>0</td>\n      <td>0</td>\n      <td>157.0</td>\n      <td>106.0</td>\n      <td>48.0</td>\n      <td>26.73</td>\n      <td>65.0</td>\n      <td>65.0</td>\n      <td>1</td>\n    </tr>\n    <tr>\n      <th>4</th>\n      <td>1</td>\n      <td>43</td>\n      <td>0</td>\n      <td>0.0</td>\n      <td>0.0</td>\n      <td>0</td>\n      <td>1</td>\n      <td>0</td>\n      <td>367.0</td>\n      <td>141.0</td>\n      <td>82.5</td>\n      <td>25.62</td>\n      <td>92.0</td>\n      <td>90.0</td>\n      <td>0</td>\n    </tr>\n  </tbody>\n</table>\n</div>"
     },
     "metadata": {}
    }
   ]
  },
  {
   "cell_type": "markdown",
   "source": "### Train - Test Split",
   "metadata": {
    "cell_id": "590d9485baa94d4faaca53fb3d4ab73c",
    "tags": [],
    "deepnote_cell_type": "markdown",
    "deepnote_cell_height": 62
   }
  },
  {
   "cell_type": "code",
   "metadata": {
    "cell_id": "44225be9d932413299d3c40f0c274ce5",
    "tags": [],
    "deepnote_to_be_reexecuted": false,
    "source_hash": "5fa96292",
    "execution_start": 1652111433311,
    "execution_millis": 2,
    "deepnote_cell_type": "code",
    "deepnote_cell_height": 81
   },
   "source": "X_train, X_test, Y_train, Y_test = train_test_split(df_heart_disease_sample.drop(columns='TenYearCHD'), df_heart_disease_sample['TenYearCHD'] , test_size=0.2, random_state=555555555)",
   "execution_count": null,
   "outputs": []
  },
  {
   "cell_type": "markdown",
   "source": "### Model Fitting",
   "metadata": {
    "cell_id": "60c2cca0a083464b83c29e8b63a8dacf",
    "tags": [],
    "deepnote_cell_type": "markdown",
    "deepnote_cell_height": 62
   }
  },
  {
   "cell_type": "markdown",
   "source": "The first step when using Tensorflow is to initialize the model. The model we saw in previous examples is a \"Sequential\" model, so we will ask Tensorflow to initialize it without any layers at first.",
   "metadata": {
    "cell_id": "3feb0f031809487bb0e6f13f3331a55c",
    "tags": [],
    "deepnote_cell_type": "markdown",
    "deepnote_cell_height": 97.171875
   }
  },
  {
   "cell_type": "code",
   "metadata": {
    "cell_id": "3fcd1588198a4439a05e6c504a7a6b74",
    "tags": [],
    "deepnote_to_be_reexecuted": false,
    "source_hash": "b8da252f",
    "execution_start": 1652111433360,
    "execution_millis": 1,
    "deepnote_cell_type": "code",
    "deepnote_cell_height": 99
   },
   "source": "# First, we initialize the model.\nmodel = tf.keras.models.Sequential()",
   "execution_count": null,
   "outputs": []
  },
  {
   "cell_type": "markdown",
   "source": "Now, we will add our layers to this empty model. We will first add our input layer, then a couple of hidden layers, and finally our output layer. Notice how we chose to use ReLU functions as our activation function, but we could have just as well chosen one of many others. We choose 10 neurons as our width for no particular reason. Usually, a larger model gives better results, but needs more and more diverse data to work well.",
   "metadata": {
    "cell_id": "96f8eb8a80754f5692d81ce2bc41a4fc",
    "tags": [],
    "deepnote_cell_type": "markdown",
    "deepnote_cell_height": 141.953125
   }
  },
  {
   "cell_type": "code",
   "metadata": {
    "cell_id": "e0b0c1f42ce949a389551a643f5641bc",
    "tags": [],
    "deepnote_to_be_reexecuted": false,
    "source_hash": "24c614f8",
    "execution_start": 1652111433361,
    "execution_millis": 43,
    "owner_user_id": "6767d251-01ae-45b2-85bc-1cbd54bf2a57",
    "deepnote_cell_type": "code",
    "deepnote_cell_height": 279
   },
   "source": "# First our input layer. For this layer, and this layer only, we need to specify the size of our input. For our dataset this means the amount of columns in our X.\nmodel.add(tf.keras.layers.Dense(10, activation=tf.nn.relu, input_shape=(X_train.shape[1],)))\n# Now some hidden layers\nmodel.add(tf.keras.layers.Dense(10, activation=tf.nn.relu))\nmodel.add(tf.keras.layers.Dropout(rate=0.2))\nmodel.add(tf.keras.layers.Dense(10, activation=tf.nn.relu))\nmodel.add(tf.keras.layers.Dropout(rate=0.2))\n# Finally, our output layer. Since we have 3 possible classes, we need 3 output neurons. \n# For a regression problem, we would have only 1. For an image creation network, we would have as many pixels as the image we wanted to create!\nmodel.add(tf.keras.layers.Dense(3))\n# A final layer with several output neurons gives us logits as results. We can do a final pass with a Softmax layer to turn them into percentages.\nmodel.add(tf.keras.layers.Softmax())",
   "execution_count": null,
   "outputs": []
  },
  {
   "cell_type": "code",
   "metadata": {
    "cell_id": "e4c6d6e366ef4384b5c79bf862fc1d61",
    "tags": [],
    "deepnote_to_be_reexecuted": false,
    "source_hash": "4e6a3b95",
    "execution_start": 1652111433405,
    "execution_millis": 475,
    "deepnote_cell_type": "code",
    "deepnote_cell_height": 556.3125
   },
   "source": "model.summary()",
   "execution_count": null,
   "outputs": [
    {
     "name": "stdout",
     "text": "Model: \"sequential\"\n_________________________________________________________________\n Layer (type)                Output Shape              Param #   \n=================================================================\n dense (Dense)               (None, 10)                150       \n                                                                 \n dense_1 (Dense)             (None, 10)                110       \n                                                                 \n dropout (Dropout)           (None, 10)                0         \n                                                                 \n dense_2 (Dense)             (None, 10)                110       \n                                                                 \n dropout_1 (Dropout)         (None, 10)                0         \n                                                                 \n dense_3 (Dense)             (None, 3)                 33        \n                                                                 \n softmax (Softmax)           (None, 3)                 0         \n                                                                 \n=================================================================\nTotal params: 403\nTrainable params: 403\nNon-trainable params: 0\n_________________________________________________________________\n",
     "output_type": "stream"
    }
   ]
  },
  {
   "cell_type": "markdown",
   "source": "Now, we will decide on an _optimizer_. The optimizer is the algorithm which determines how much we move each weight down the slope we found by backpropagation. There are many possible choices, most of which are based on Stochastic Gradient Descent. [One of the most popular ones right now is \"Adam\"](https://machinelearningmastery.com/adam-optimization-algorithm-for-deep-learning/#:~:text=Adam%20is%20an%20optimization%20algorithm,iterative%20based%20in%20training%20data.&text=The%20algorithm%20is%20called%20Adam.)\n\nThe __learning rate__ is the amount of space we expect to move down the slope on each cycle of learning. The larger this number, the more we move, but the less precise the movement.\n",
   "metadata": {
    "cell_id": "2729f1b88f774738a4cdf41850e4deb3",
    "tags": [],
    "deepnote_cell_type": "markdown",
    "deepnote_cell_height": 178.34375
   }
  },
  {
   "cell_type": "code",
   "metadata": {
    "cell_id": "9292e1a4db75498496cc2a60c57f24ba",
    "tags": [],
    "deepnote_to_be_reexecuted": false,
    "source_hash": "969ad027",
    "execution_start": 1652111433448,
    "execution_millis": 1117452,
    "deepnote_cell_type": "code",
    "deepnote_cell_height": 81
   },
   "source": "optim = tf.keras.optimizers.Adam(learning_rate=0.01)",
   "execution_count": null,
   "outputs": []
  },
  {
   "cell_type": "markdown",
   "source": "Finally, we compile our final model and train with our data.",
   "metadata": {
    "cell_id": "e3b152809beb4ef7a5ee507a1f6eff0f",
    "tags": [],
    "deepnote_cell_type": "markdown",
    "deepnote_cell_height": 52.390625
   }
  },
  {
   "cell_type": "code",
   "metadata": {
    "cell_id": "91c8333a91f546cb85e7257da110d740",
    "tags": [],
    "deepnote_to_be_reexecuted": false,
    "source_hash": "d40a9e4d",
    "execution_start": 1652111433500,
    "execution_millis": 3327,
    "deepnote_cell_type": "code",
    "deepnote_cell_height": 1115
   },
   "source": "# define metrics\ndef Recall(y_true, y_pred):\n    true_positives = K.sum(K.round(K.clip(y_true * y_pred, 0, 1)))\n    possible_positives = K.sum(K.round(K.clip(y_true, 0, 1)))\n    recall = true_positives / (possible_positives + K.epsilon())\n    return recall\n\ndef Precision(y_true, y_pred):\n    true_positives = K.sum(K.round(K.clip(y_true * y_pred, 0, 1)))\n    predicted_positives = K.sum(K.round(K.clip(y_pred, 0, 1)))\n    precision = true_positives / (predicted_positives + K.epsilon())\n    return precision\n\ndef F1(y_true, y_pred):\n    precision = Precision(y_true, y_pred)\n    recall = Recall(y_true, y_pred)\n    return 2*((precision*recall)/(precision+recall+K.epsilon()))\n\nmodel.compile(optimizer='adam', loss='binary_crossentropy', \n              metrics=['accuracy',F1])\nhistory = model.fit(X_train.values, Y_train.values,\n        validation_data=(X_test.values, Y_test.values),\n        epochs = 20,\n        batch_size=32)",
   "execution_count": null,
   "outputs": [
    {
     "name": "stdout",
     "text": "Epoch 1/20\n30/30 [==============================] - 1s 9ms/step - loss: 7.0940 - accuracy: 0.0555 - F1: 0.6420 - val_loss: 7.8394 - val_accuracy: 0.0000e+00 - val_F1: 0.6871\nEpoch 2/20\n30/30 [==============================] - 0s 2ms/step - loss: 5.3462 - accuracy: 0.1281 - F1: 0.6444 - val_loss: 1.7910 - val_accuracy: 0.2979 - val_F1: 0.6907\nEpoch 3/20\n30/30 [==============================] - 0s 2ms/step - loss: 1.4867 - accuracy: 0.3287 - F1: 0.5602 - val_loss: 0.9588 - val_accuracy: 0.3957 - val_F1: 0.3096\nEpoch 4/20\n30/30 [==============================] - 0s 3ms/step - loss: 0.8437 - accuracy: 0.4429 - F1: 0.2366 - val_loss: 0.8876 - val_accuracy: 0.4979 - val_F1: 0.1865\nEpoch 5/20\n30/30 [==============================] - 0s 3ms/step - loss: 0.8206 - accuracy: 0.4472 - F1: 0.1509 - val_loss: 0.8359 - val_accuracy: 0.5234 - val_F1: 0.1449\nEpoch 6/20\n30/30 [==============================] - 0s 2ms/step - loss: 0.7949 - accuracy: 0.4568 - F1: 0.1204 - val_loss: 0.8085 - val_accuracy: 0.5191 - val_F1: 0.0799\nEpoch 7/20\n30/30 [==============================] - 0s 2ms/step - loss: 0.7741 - accuracy: 0.4397 - F1: 0.0884 - val_loss: 0.7962 - val_accuracy: 0.5277 - val_F1: 0.0767\nEpoch 8/20\n30/30 [==============================] - 0s 3ms/step - loss: 0.7671 - accuracy: 0.4450 - F1: 0.0558 - val_loss: 0.7909 - val_accuracy: 0.5191 - val_F1: 0.0489\nEpoch 9/20\n30/30 [==============================] - 0s 2ms/step - loss: 0.7643 - accuracy: 0.4803 - F1: 0.0731 - val_loss: 0.7883 - val_accuracy: 0.5277 - val_F1: 0.0383\nEpoch 10/20\n30/30 [==============================] - 0s 3ms/step - loss: 0.7516 - accuracy: 0.4600 - F1: 0.0452 - val_loss: 0.7867 - val_accuracy: 0.5277 - val_F1: 0.0383\nEpoch 11/20\n30/30 [==============================] - 0s 3ms/step - loss: 0.7493 - accuracy: 0.4685 - F1: 0.0479 - val_loss: 0.7856 - val_accuracy: 0.5234 - val_F1: 0.0244\nEpoch 12/20\n30/30 [==============================] - 0s 3ms/step - loss: 0.7576 - accuracy: 0.4760 - F1: 0.0335 - val_loss: 0.7852 - val_accuracy: 0.5277 - val_F1: 0.0383\nEpoch 13/20\n30/30 [==============================] - 0s 3ms/step - loss: 0.7475 - accuracy: 0.4867 - F1: 0.0232 - val_loss: 0.7844 - val_accuracy: 0.5277 - val_F1: 0.0258\nEpoch 14/20\n30/30 [==============================] - 0s 2ms/step - loss: 0.7522 - accuracy: 0.4685 - F1: 0.0323 - val_loss: 0.7826 - val_accuracy: 0.5234 - val_F1: 0.0119\nEpoch 15/20\n30/30 [==============================] - 0s 2ms/step - loss: 0.7410 - accuracy: 0.4707 - F1: 0.0230 - val_loss: 0.7819 - val_accuracy: 0.5191 - val_F1: 0.0119\nEpoch 16/20\n30/30 [==============================] - 0s 3ms/step - loss: 0.7442 - accuracy: 0.4952 - F1: 0.0239 - val_loss: 0.7810 - val_accuracy: 0.5191 - val_F1: 0.0119\nEpoch 17/20\n30/30 [==============================] - 0s 2ms/step - loss: 0.7441 - accuracy: 0.4941 - F1: 0.0263 - val_loss: 0.7803 - val_accuracy: 0.5234 - val_F1: 0.0119\nEpoch 18/20\n30/30 [==============================] - 0s 2ms/step - loss: 0.7412 - accuracy: 0.4685 - F1: 0.0229 - val_loss: 0.7799 - val_accuracy: 0.5277 - val_F1: 0.0119\nEpoch 19/20\n30/30 [==============================] - 0s 3ms/step - loss: 0.7476 - accuracy: 0.4899 - F1: 0.0166 - val_loss: 0.7792 - val_accuracy: 0.5277 - val_F1: 0.0119\nEpoch 20/20\n30/30 [==============================] - 0s 2ms/step - loss: 0.7425 - accuracy: 0.4707 - F1: 0.0205 - val_loss: 0.7788 - val_accuracy: 0.5362 - val_F1: 0.0119\n",
     "output_type": "stream"
    }
   ]
  },
  {
   "cell_type": "code",
   "metadata": {
    "cell_id": "88689cc089224c6c861b58537cb512bb",
    "tags": [],
    "deepnote_to_be_reexecuted": false,
    "source_hash": "a32e59ae",
    "execution_start": 1652111436836,
    "execution_millis": 226,
    "deepnote_cell_type": "code",
    "deepnote_cell_height": 503,
    "deepnote_output_heights": [
     280
    ]
   },
   "source": "# Plot history\nplt.plot(history.history['loss'], label='Binary_crossentropy (training data)')\nplt.plot(history.history['val_loss'], label='Binary_crossentropy (validation data)')\nplt.title('Training History')\nplt.ylabel('Loss')\nplt.xlabel('Epoch #')\nplt.legend(loc=\"upper left\")\nplt.show()",
   "execution_count": null,
   "outputs": [
    {
     "data": {
      "text/plain": "<Figure size 432x288 with 1 Axes>",
      "image/png": "[encoded data removed]"
     },
     "metadata": {
      "needs_background": "light",
      "image/png": {
       "width": 376,
       "height": 278
      }
     },
     "output_type": "display_data"
    }
   ]
  },
  {
   "cell_type": "markdown",
   "source": "## Model Visualization",
   "metadata": {
    "cell_id": "25814184323f4678b1c7131aa5ee8bc6",
    "tags": [],
    "deepnote_cell_type": "markdown",
    "deepnote_cell_height": 70
   }
  },
  {
   "cell_type": "code",
   "metadata": {
    "cell_id": "4cdb2bf0894b4bd69a499516bc7aa3c5",
    "tags": [],
    "deepnote_to_be_reexecuted": false,
    "source_hash": "b16655bd",
    "execution_start": 1652111437083,
    "execution_millis": 2,
    "deepnote_cell_type": "code",
    "deepnote_cell_height": 1683
   },
   "source": "def utils_nn_config(model):\n    lst_layers = []\n    if \"Sequential\" in str(model): #-> Sequential doesn't show the input layer\n        layer = model.layers[0]\n        lst_layers.append({\"name\":\"input\", \"in\":int(layer.input.shape[-1]), \"neurons\":0, \n                           \"out\":int(layer.input.shape[-1]), \"activation\":None,\n                           \"params\":0, \"bias\":0})\n    for layer in model.layers:\n        try:\n            dic_layer = {\"name\":layer.name, \"in\":int(layer.input.shape[-1]), \"neurons\":layer.units, \n                         \"out\":int(layer.output.shape[-1]), \"activation\":layer.get_config()[\"activation\"],\n                         \"params\":layer.get_weights()[0], \"bias\":layer.get_weights()[1]}\n        except:\n            dic_layer = {\"name\":layer.name, \"in\":int(layer.input.shape[-1]), \"neurons\":0, \n                         \"out\":int(layer.output.shape[-1]), \"activation\":None,\n                         \"params\":0, \"bias\":0}\n        lst_layers.append(dic_layer)\n    return lst_layers\n\n\n\n'''\nPlot the structure of a keras neural network.\n'''\ndef visualize_nn(model, description=False, figsize=(10,8)):\n    ## get layers info\n    lst_layers = utils_nn_config(model)\n    layer_sizes = [layer[\"out\"] for layer in lst_layers]\n    \n    ## fig setup\n    fig = plt.figure(figsize=figsize)\n    ax = fig.gca()\n    ax.set(title=model.name)\n    ax.axis('off')\n    left, right, bottom, top = 0.1, 0.9, 0.1, 0.9\n    x_space = (right-left) / float(len(layer_sizes)-1)\n    y_space = (top-bottom) / float(max(layer_sizes))\n    p = 0.025\n    \n    ## nodes\n    for i,n in enumerate(layer_sizes):\n        top_on_layer = y_space*(n-1)/2.0 + (top+bottom)/2.0\n        layer = lst_layers[i]\n        color = \"green\" if i in [0, len(layer_sizes)-1] else \"blue\"\n        color = \"red\" if (layer['neurons'] == 0) and (i > 0) else color\n        \n        ### add description\n        if (description is True):\n            d = i if i == 0 else i-0.5\n            if layer['activation'] is None:\n                plt.text(x=left+d*x_space, y=top, fontsize=10, color=color, s=layer[\"name\"].upper())\n            else:\n                plt.text(x=left+d*x_space, y=top, fontsize=10, color=color, s=layer[\"name\"].upper())\n                plt.text(x=left+d*x_space, y=top-p, fontsize=10, color=color, s=layer['activation']+\" (\")\n                plt.text(x=left+d*x_space, y=top-2*p, fontsize=10, color=color, s=\"Σ\"+str(layer['in'])+\"[X*w]+b\")\n                out = \" Y\"  if i == len(layer_sizes)-1 else \" out\"\n                plt.text(x=left+d*x_space, y=top-3*p, fontsize=10, color=color, s=\") = \"+str(layer['neurons'])+out)\n        \n        ### circles\n        for m in range(n):\n            color = \"limegreen\" if color == \"green\" else color\n            circle = plt.Circle(xy=(left+i*x_space, top_on_layer-m*y_space-4*p), radius=y_space/4.0, color=color, ec='k', zorder=4)\n            ax.add_artist(circle)\n            \n            ### add text\n            if i == 0:\n                plt.text(x=left-4*p, y=top_on_layer-m*y_space-4*p, fontsize=10, s=r'$X_{'+str(m+1)+'}$')\n            elif i == len(layer_sizes)-1:\n                plt.text(x=right+4*p, y=top_on_layer-m*y_space-4*p, fontsize=10, s=r'$y_{'+str(m+1)+'}$')\n            else:\n                plt.text(x=left+i*x_space+p, y=top_on_layer-m*y_space+(y_space/8.+0.01*y_space)-4*p, fontsize=10, s=r'$H_{'+str(m+1)+'}$')\n    \n    ## links\n    for i, (n_a, n_b) in enumerate(zip(layer_sizes[:-1], layer_sizes[1:])):\n        layer = lst_layers[i+1]\n        color = \"green\" if i == len(layer_sizes)-2 else \"blue\"\n        color = \"red\" if layer['neurons'] == 0 else color\n        layer_top_a = y_space*(n_a-1)/2. + (top+bottom)/2. -4*p\n        layer_top_b = y_space*(n_b-1)/2. + (top+bottom)/2. -4*p\n        for m in range(n_a):\n            for o in range(n_b):\n                line = plt.Line2D([i*x_space+left, (i+1)*x_space+left], \n                                  [layer_top_a-m*y_space, layer_top_b-o*y_space], \n                                  c=color, alpha=0.5)\n                if layer['activation'] is None:\n                    if o == m:\n                        ax.add_artist(line)\n                else:\n                    ax.add_artist(line)\n    plt.show()",
   "execution_count": null,
   "outputs": []
  },
  {
   "cell_type": "code",
   "metadata": {
    "cell_id": "4828bf2615c8446bb1d2fd5404a9b2eb",
    "tags": [],
    "deepnote_to_be_reexecuted": false,
    "source_hash": "910c1c1b",
    "execution_start": 1652111437089,
    "execution_millis": 2153,
    "deepnote_cell_type": "code",
    "deepnote_cell_height": 564,
    "deepnote_output_heights": [
     467
    ]
   },
   "source": "visualize_nn(model, description=True, figsize=(10,8))",
   "execution_count": null,
   "outputs": [
    {
     "data": {
      "text/plain": "<Figure size 720x576 with 1 Axes>",
      "image/png": "[encoded data removed]"
     },
     "metadata": {
      "needs_background": "light",
      "image/png": {
       "width": 584,
       "height": 465
      }
     },
     "output_type": "display_data"
    }
   ]
  },
  {
   "cell_type": "code",
   "metadata": {
    "cell_id": "24f1536fe0804513bf220fa68ffead27",
    "tags": [],
    "deepnote_to_be_reexecuted": false,
    "source_hash": "577c1246",
    "execution_start": 1652111438838,
    "execution_millis": 407,
    "deepnote_cell_type": "code",
    "deepnote_cell_height": 708,
    "deepnote_output_heights": [
     611
    ]
   },
   "source": "tf.keras.utils.plot_model(model, to_file='model.png', show_shapes=True, show_layer_names=True)",
   "execution_count": null,
   "outputs": [
    {
     "output_type": "execute_result",
     "execution_count": 18,
     "data": {
      "image/png": "[encoded data removed]",
      "text/plain": "<IPython.core.display.Image object>"
     },
     "metadata": {
      "image/png": {
       "width": 515,
       "height": 848
      }
     }
    }
   ]
  },
  {
   "cell_type": "markdown",
   "source": "#### Examples\n\n",
   "metadata": {
    "cell_id": "eff5e8ed34b343fb80c365b3407e8275",
    "tags": [],
    "deepnote_cell_type": "markdown",
    "deepnote_cell_height": 54
   }
  },
  {
   "cell_type": "markdown",
   "source": "https://github.com/mdipietro09/DataScience_ArtificialIntelligence_Utils/blob/master/machine_learning/example_classification.ipynb\n",
   "metadata": {
    "cell_id": "3fe4be23cc4e472e822ba4fdec7a4f57",
    "tags": [],
    "deepnote_cell_type": "markdown",
    "deepnote_cell_height": 74.78125
   }
  },
  {
   "cell_type": "markdown",
   "source": "<a style='text-decoration:none;line-height:16px;display:flex;color:#5B5B62;padding:10px;justify-content:end;' href='https://deepnote.com?utm_source=created-in-deepnote-cell&projectId=96262903-a28f-4719-a328-dc59e3cfa77f' target=\"_blank\">\n<img alt='Created in deepnote.com' style='display:inline;max-height:16px;margin:0px;margin-right:7.5px;' src='data:image/svg+xml;base64,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' > </img>\nCreated in <span style='font-weight:600;margin-left:4px;'>Deepnote</span></a>",
   "metadata": {
    "tags": [],
    "created_in_deepnote_cell": true,
    "deepnote_cell_type": "markdown"
   }
  }
 ],
 "nbformat": 4,
 "nbformat_minor": 2,
 "metadata": {
  "orig_nbformat": 2,
  "deepnote": {},
  "deepnote_notebook_id": "8675d4a7-7487-4752-a316-7c0ac745da8e",
  "deepnote_execution_queue": []
 }
}